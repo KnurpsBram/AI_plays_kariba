{
 "cells": [
  {
   "cell_type": "markdown",
   "metadata": {},
   "source": [
    "## AI plays Kariba!\n",
    "\n",
    "The rules of Kariba are fairly simple:\n",
    "\n",
    "When it's your turn you play one or several cards of the same species from your hand onto the field. If at some point there are 3 or more animals of the same species on the field, they chase away the closest weaker animal. However, everyone knows elephants are afraid of mice, so the mouse is the only animal that can chase away the elephant. For every animal you chase away, you get a point.\n",
    "<br>\n",
    "And that's it!\n",
    "<br>\n",
    "The deck starts out with 64 cards (8 animals for each of the 8 species) and the game ends when the deck and one of the player's hands is empty. Before your turn you can refill your hand up to 5 cards. \n",
    "\n",
    "8: Elephant<br>\n",
    "7: Rhino<br>\n",
    "6: Leopard<br>\n",
    "5: Ostrich<br>\n",
    "4: Giraffe<br>\n",
    "3: Zebra<br>\n",
    "2: Meerkat<br>\n",
    "1: Mouse<br>\n",
    "\n",
    "The AI you will be playing against uses Monte Carlo Tree Search (MCTS), this means that it can plan ahead before it plays a move. However, it's not a learning algorithm, so after each move it forgets everything it knows and restarts from scratch. The AI cannot see the cards in your hand, but it does know what cards have left the game, so it could potentially infer whether the deck has run out of mice, for instance. If you choose not to view the opponent's hands, but do choose to view the contents of the deck, what you'll see will actually be the union of the deck and all the opponent's hands.\n",
    "\n",
    "You can play a move by typing for example \"3 giraffes\" (other ways to play that move are \"3giraffes\", \"3 Giraffes\", \"3 giraffe\", \"3*4\" and \"00030000\")\n",
    "\n",
    "Good luck!"
   ]
  },
  {
   "cell_type": "code",
   "execution_count": null,
   "metadata": {},
   "outputs": [],
   "source": [
    "import interactive_game"
   ]
  },
  {
   "cell_type": "code",
   "execution_count": null,
   "metadata": {
    "scrolled": false
   },
   "outputs": [],
   "source": [
    "interactive_game.interactive_game(n=100) # higher value for n will make MCTS better, but it will take more time"
   ]
  },
  {
   "cell_type": "markdown",
   "metadata": {},
   "source": [
    "## "
   ]
  }
 ],
 "metadata": {
  "kernelspec": {
   "display_name": "Python 3",
   "language": "python",
   "name": "python3"
  },
  "language_info": {
   "codemirror_mode": {
    "name": "ipython",
    "version": 3
   },
   "file_extension": ".py",
   "mimetype": "text/x-python",
   "name": "python",
   "nbconvert_exporter": "python",
   "pygments_lexer": "ipython3",
   "version": "3.7.4"
  }
 },
 "nbformat": 4,
 "nbformat_minor": 2
}
