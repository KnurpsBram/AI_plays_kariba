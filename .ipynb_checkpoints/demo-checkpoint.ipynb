{
 "cells": [
  {
   "cell_type": "code",
   "execution_count": 1,
   "metadata": {},
   "outputs": [
    {
     "name": "stderr",
     "output_type": "stream",
     "text": [
      "100%|██████████| 100/100 [00:03<00:00, 28.43it/s]"
     ]
    },
    {
     "name": "stdout",
     "output_type": "stream",
     "text": [
      "[0 0 1 0 0 0 0 0]\n"
     ]
    },
    {
     "name": "stderr",
     "output_type": "stream",
     "text": [
      "\n"
     ]
    }
   ],
   "source": [
    "from src.kariba import Kariba\n",
    "from src import mcts\n",
    "\n",
    "kariba = Kariba()\n",
    "root_node = mcts.FullHandNode(kariba)\n",
    "best_action = mcts.mcts(root_node, n=100)\n",
    "\n",
    "print(best_action)"
   ]
  },
  {
   "cell_type": "code",
   "execution_count": 2,
   "metadata": {},
   "outputs": [
    {
     "name": "stdout",
     "output_type": "stream",
     "text": [
      "1 zebra\n"
     ]
    }
   ],
   "source": [
    "from src import util\n",
    "print(util.animals_arr_to_str(best_action))"
   ]
  },
  {
   "cell_type": "code",
   "execution_count": 3,
   "metadata": {},
   "outputs": [
    {
     "name": "stdout",
     "output_type": "stream",
     "text": [
      "#################################\n",
      "Nodename : Node1\n",
      "Parent   : This node has no parent\n",
      "Children : ['Node2', 'Node3', 'Node4', 'Node5', 'Node6']\n",
      "+++++++++++++++++++++++++++++++++\n",
      "NodeType         : FullHandNode\n",
      "Likelihood       : 2.3503143545449204e-05\n",
      "********************************\n",
      "It is player1's turn\n",
      "scoreboard:\n",
      "  player1             : 0\n",
      "  player2             : 0\n",
      "\n",
      "The deck holds:\n",
      "  8 elephants\n",
      "  5 rhinos\n",
      "  8 leopards\n",
      "  7 ostriches\n",
      "  8 giraffes\n",
      "  7 zebras\n",
      "  8 meerkats\n",
      "  8 mice\n",
      "\n",
      "On the field lies:\n",
      "  nothing\n",
      "  \n",
      "\n",
      "player1's hand holds:\n",
      "  3 rhinos\n",
      "  1 ostrich\n",
      "  1 zebra\n",
      "\n",
      "player2's hand holds:\n",
      "  nothing\n",
      "  \n",
      "--------------------------------\n",
      "\n"
     ]
    }
   ],
   "source": [
    "print(root_node)"
   ]
  },
  {
   "cell_type": "code",
   "execution_count": 4,
   "metadata": {
    "scrolled": false
   },
   "outputs": [
    {
     "name": "stdout",
     "output_type": "stream",
     "text": [
      "#################################\n",
      "Nodename : Node2\n",
      "Parent   : Node1\n",
      "Children : ['Node7', 'Node8', 'Node9', 'Node10', 'Node11', 'Node12', 'Node13', 'Node14', 'Node15', 'Node16', 'Node17', 'Node18', 'Node19', 'Node20', 'Node21', 'Node22', 'Node23', 'Node24', 'Node25', 'Node26', 'Node27', 'Node28', 'Node29', 'Node30', 'Node31', 'Node32', 'Node33', 'Node34', 'Node35', 'Node36', 'Node37', 'Node38', 'Node39', 'Node40', 'Node41', 'Node42', 'Node43', 'Node44', 'Node45', 'Node46', 'Node47', 'Node48', 'Node49', 'Node50', 'Node51', 'Node52', 'Node53', 'Node54', 'Node55', 'Node56', 'Node57', 'Node58', 'Node59', 'Node60', 'Node61', 'Node62', 'Node63', 'Node64', 'Node65', 'Node66', 'Node67', 'Node68', 'Node69', 'Node70', 'Node71', 'Node72', 'Node73', 'Node74', 'Node75', 'Node76', 'Node77', 'Node78', 'Node79', 'Node80', 'Node81', 'Node82', 'Node83', 'Node84', 'Node85', 'Node86', 'Node87', 'Node88', 'Node89', 'Node90', 'Node91', 'Node92', 'Node93', 'Node94', 'Node95', 'Node96', 'Node97', 'Node98', 'Node99', 'Node100', 'Node101', 'Node102', 'Node103', 'Node104', 'Node105', 'Node106', 'Node107', 'Node108', 'Node109', 'Node110', 'Node111', 'Node112', 'Node113', 'Node114', 'Node115', 'Node116', 'Node117', 'Node118', 'Node119', 'Node120', 'Node121', 'Node122', 'Node123', 'Node124', 'Node125', 'Node126', 'Node127', 'Node128', 'Node129', 'Node130', 'Node131', 'Node132', 'Node133', 'Node134', 'Node135', 'Node136', 'Node137', 'Node138', 'Node139', 'Node140', 'Node141', 'Node142', 'Node143', 'Node144', 'Node145', 'Node146', 'Node147', 'Node148', 'Node149', 'Node150', 'Node151', 'Node152', 'Node153', 'Node154', 'Node155', 'Node156', 'Node157', 'Node158', 'Node159', 'Node160', 'Node161', 'Node162', 'Node163', 'Node164', 'Node165', 'Node166', 'Node167', 'Node168', 'Node169', 'Node170', 'Node171', 'Node172', 'Node173', 'Node174', 'Node175', 'Node176', 'Node177', 'Node178', 'Node179', 'Node180', 'Node181', 'Node182', 'Node183', 'Node184', 'Node185', 'Node186', 'Node187', 'Node188', 'Node189', 'Node190', 'Node191', 'Node192', 'Node193', 'Node194', 'Node195', 'Node196', 'Node197', 'Node198', 'Node199', 'Node200', 'Node201', 'Node202', 'Node203', 'Node204', 'Node205', 'Node206', 'Node207', 'Node208', 'Node209', 'Node210', 'Node211', 'Node212', 'Node213', 'Node214', 'Node215', 'Node216', 'Node217', 'Node218', 'Node219', 'Node220', 'Node221', 'Node222', 'Node223', 'Node224', 'Node225', 'Node226', 'Node227', 'Node228', 'Node229', 'Node230', 'Node231', 'Node232', 'Node233', 'Node234', 'Node235', 'Node236', 'Node237', 'Node238', 'Node239', 'Node240', 'Node241', 'Node242', 'Node243', 'Node244', 'Node245', 'Node246', 'Node247', 'Node248', 'Node249', 'Node250', 'Node251', 'Node252', 'Node253', 'Node254', 'Node255', 'Node256', 'Node257', 'Node258', 'Node259', 'Node260', 'Node261', 'Node262', 'Node263', 'Node264', 'Node265', 'Node266', 'Node267', 'Node268', 'Node269', 'Node270', 'Node271', 'Node272', 'Node273', 'Node274', 'Node275', 'Node276', 'Node277', 'Node278', 'Node279', 'Node280', 'Node281', 'Node282', 'Node283', 'Node284', 'Node285', 'Node286', 'Node287', 'Node288', 'Node289', 'Node290', 'Node291', 'Node292', 'Node293', 'Node294', 'Node295', 'Node296', 'Node297', 'Node298', 'Node299', 'Node300', 'Node301', 'Node302', 'Node303', 'Node304', 'Node305', 'Node306', 'Node307', 'Node308', 'Node309', 'Node310', 'Node311', 'Node312', 'Node313', 'Node314', 'Node315', 'Node316', 'Node317', 'Node318', 'Node319', 'Node320', 'Node321', 'Node322', 'Node323', 'Node324', 'Node325', 'Node326', 'Node327', 'Node328', 'Node329', 'Node330', 'Node331', 'Node332', 'Node333', 'Node334', 'Node335', 'Node336', 'Node337', 'Node338', 'Node339', 'Node340', 'Node341', 'Node342', 'Node343', 'Node344', 'Node345', 'Node346', 'Node347', 'Node348', 'Node349', 'Node350', 'Node351', 'Node352', 'Node353', 'Node354', 'Node355', 'Node356', 'Node357', 'Node358', 'Node359', 'Node360', 'Node361', 'Node362', 'Node363', 'Node364', 'Node365', 'Node366', 'Node367', 'Node368', 'Node369', 'Node370', 'Node371', 'Node372', 'Node373', 'Node374', 'Node375', 'Node376', 'Node377', 'Node378', 'Node379', 'Node380', 'Node381', 'Node382', 'Node383', 'Node384', 'Node385', 'Node386', 'Node387', 'Node388', 'Node389', 'Node390', 'Node391', 'Node392', 'Node393', 'Node394', 'Node395', 'Node396', 'Node397', 'Node398', 'Node399', 'Node400', 'Node401', 'Node402', 'Node403', 'Node404', 'Node405', 'Node406', 'Node407', 'Node408', 'Node409', 'Node410', 'Node411', 'Node412', 'Node413', 'Node414', 'Node415', 'Node416', 'Node417', 'Node418', 'Node419', 'Node420', 'Node421', 'Node422', 'Node423', 'Node424', 'Node425', 'Node426', 'Node427', 'Node428', 'Node429', 'Node430', 'Node431', 'Node432', 'Node433', 'Node434', 'Node435', 'Node436', 'Node437', 'Node438', 'Node439', 'Node440', 'Node441', 'Node442', 'Node443', 'Node444', 'Node445', 'Node446', 'Node447', 'Node448', 'Node449', 'Node450', 'Node451', 'Node452', 'Node453', 'Node454', 'Node455', 'Node456', 'Node457', 'Node458', 'Node459', 'Node460', 'Node461', 'Node462', 'Node463', 'Node464', 'Node465', 'Node466', 'Node467', 'Node468', 'Node469', 'Node470', 'Node471', 'Node472', 'Node473', 'Node474', 'Node475', 'Node476', 'Node477', 'Node478', 'Node479', 'Node480', 'Node481', 'Node482', 'Node483', 'Node484', 'Node485', 'Node486', 'Node487', 'Node488', 'Node489', 'Node490', 'Node491', 'Node492', 'Node493', 'Node494', 'Node495', 'Node496', 'Node497', 'Node498', 'Node499', 'Node500', 'Node501', 'Node502', 'Node503', 'Node504', 'Node505', 'Node506', 'Node507', 'Node508', 'Node509', 'Node510', 'Node511', 'Node512', 'Node513', 'Node514', 'Node515', 'Node516', 'Node517', 'Node518', 'Node519', 'Node520', 'Node521', 'Node522', 'Node523', 'Node524', 'Node525', 'Node526', 'Node527', 'Node528', 'Node529', 'Node530', 'Node531', 'Node532', 'Node533', 'Node534', 'Node535', 'Node536', 'Node537', 'Node538', 'Node539', 'Node540', 'Node541', 'Node542', 'Node543', 'Node544', 'Node545', 'Node546', 'Node547', 'Node548', 'Node549', 'Node550', 'Node551', 'Node552', 'Node553', 'Node554', 'Node555', 'Node556', 'Node557', 'Node558', 'Node559', 'Node560', 'Node561', 'Node562', 'Node563', 'Node564', 'Node565', 'Node566', 'Node567', 'Node568', 'Node569', 'Node570', 'Node571', 'Node572', 'Node573', 'Node574', 'Node575', 'Node576', 'Node577', 'Node578', 'Node579', 'Node580', 'Node581', 'Node582', 'Node583', 'Node584', 'Node585', 'Node586', 'Node587', 'Node588', 'Node589', 'Node590', 'Node591', 'Node592', 'Node593', 'Node594', 'Node595', 'Node596', 'Node597', 'Node598', 'Node599', 'Node600', 'Node601', 'Node602', 'Node603', 'Node604', 'Node605', 'Node606', 'Node607', 'Node608', 'Node609', 'Node610', 'Node611', 'Node612', 'Node613', 'Node614', 'Node615', 'Node616', 'Node617', 'Node618', 'Node619', 'Node620', 'Node621', 'Node622', 'Node623', 'Node624', 'Node625', 'Node626', 'Node627', 'Node628', 'Node629', 'Node630', 'Node631', 'Node632', 'Node633', 'Node634', 'Node635', 'Node636', 'Node637', 'Node638', 'Node639', 'Node640', 'Node641', 'Node642', 'Node643', 'Node644', 'Node645', 'Node646', 'Node647', 'Node648', 'Node649', 'Node650', 'Node651', 'Node652', 'Node653', 'Node654', 'Node655', 'Node656', 'Node657', 'Node658', 'Node659', 'Node660', 'Node661', 'Node662', 'Node663', 'Node664', 'Node665', 'Node666', 'Node667', 'Node668', 'Node669', 'Node670', 'Node671', 'Node672', 'Node673', 'Node674', 'Node675', 'Node676', 'Node677', 'Node678', 'Node679', 'Node680', 'Node681', 'Node682', 'Node683', 'Node684', 'Node685', 'Node686', 'Node687', 'Node688', 'Node689', 'Node690', 'Node691', 'Node692', 'Node693', 'Node694', 'Node695', 'Node696', 'Node697', 'Node698', 'Node699', 'Node700', 'Node701', 'Node702', 'Node703', 'Node704', 'Node705', 'Node706', 'Node707', 'Node708', 'Node709', 'Node710', 'Node711', 'Node712', 'Node713', 'Node714', 'Node715', 'Node716', 'Node717', 'Node718', 'Node719', 'Node720', 'Node721', 'Node722', 'Node723', 'Node724', 'Node725', 'Node726', 'Node727', 'Node728', 'Node729', 'Node730', 'Node731', 'Node732', 'Node733', 'Node734', 'Node735', 'Node736', 'Node737', 'Node738', 'Node739', 'Node740', 'Node741', 'Node742', 'Node743', 'Node744', 'Node745', 'Node746', 'Node747', 'Node748', 'Node749', 'Node750', 'Node751', 'Node752', 'Node753', 'Node754', 'Node755', 'Node756', 'Node757', 'Node758', 'Node759', 'Node760', 'Node761', 'Node762', 'Node763', 'Node764', 'Node765', 'Node766', 'Node767', 'Node768', 'Node769', 'Node770', 'Node771', 'Node772', 'Node773', 'Node774', 'Node775', 'Node776', 'Node777', 'Node778', 'Node779', 'Node780', 'Node781', 'Node782', 'Node783', 'Node784', 'Node785', 'Node786', 'Node787', 'Node788', 'Node789', 'Node790', 'Node791', 'Node792', 'Node793', 'Node794', 'Node795', 'Node796', 'Node797', 'Node798']\n",
      "+++++++++++++++++++++++++++++++++\n",
      "NodeType         : IncompleteHandNode\n",
      "Action           : [0 0 1 0 0 0 0 0]\n",
      "Simulations from this action onward : 24\n",
      "Simulations won from this action onward : 20\n",
      "********************************\n",
      "It is player1's turn\n",
      "scoreboard:\n",
      "  player1             : 0\n",
      "  player2             : 0\n",
      "\n",
      "The deck holds:\n",
      "  8 elephants\n",
      "  5 rhinos\n",
      "  8 leopards\n",
      "  7 ostriches\n",
      "  8 giraffes\n",
      "  7 zebras\n",
      "  8 meerkats\n",
      "  8 mice\n",
      "\n",
      "On the field lies:\n",
      "  nothing\n",
      "  \n",
      "\n",
      "player1's hand holds:\n",
      "  3 rhinos\n",
      "  1 ostrich\n",
      "  1 zebra\n",
      "\n",
      "player2's hand holds:\n",
      "  nothing\n",
      "  \n",
      "--------------------------------\n",
      "\n"
     ]
    }
   ],
   "source": [
    "# modelling many different deck draws for the opponent causes this node to have many children\n",
    "print(root_node.children[0]) "
   ]
  },
  {
   "cell_type": "code",
   "execution_count": null,
   "metadata": {},
   "outputs": [],
   "source": []
  }
 ],
 "metadata": {
  "kernelspec": {
   "display_name": "Python 3",
   "language": "python",
   "name": "python3"
  },
  "language_info": {
   "codemirror_mode": {
    "name": "ipython",
    "version": 3
   },
   "file_extension": ".py",
   "mimetype": "text/x-python",
   "name": "python",
   "nbconvert_exporter": "python",
   "pygments_lexer": "ipython3",
   "version": "3.7.4"
  }
 },
 "nbformat": 4,
 "nbformat_minor": 2
}
